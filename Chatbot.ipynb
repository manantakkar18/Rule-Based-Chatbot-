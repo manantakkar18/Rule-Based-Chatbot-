{
  "cells": [
    {
      "cell_type": "code",
      "execution_count": null,
      "metadata": {
        "colab": {
          "base_uri": "https://localhost:8080/"
        },
        "id": "rRc4TijtKn0c",
        "outputId": "21c01a84-8cdf-437f-90af-1342e9578080"
      },
      "outputs": [
        {
          "output_type": "stream",
          "name": "stderr",
          "text": [
            "[nltk_data] Downloading package punkt to /root/nltk_data...\n",
            "[nltk_data]   Unzipping tokenizers/punkt.zip.\n"
          ]
        }
      ],
      "source": [
        "import nltk\n",
        "nltk.download('punkt')\n",
        "from nltk.stem import PorterStemmer\n",
        "import tensorflow as tf\n",
        "import numpy as np\n",
        "import random\n",
        "import json"
      ]
    },
    {
      "cell_type": "code",
      "execution_count": null,
      "metadata": {
        "colab": {
          "background_save": true
        },
        "id": "jIF0y7FNKy_p",
        "outputId": "11dc0ad9-a0c9-47b0-c891-cdc622edf142"
      },
      "outputs": [
        {
          "ename": "JSONDecodeError",
          "evalue": "ignored",
          "output_type": "error",
          "traceback": [
            "\u001b[0;31m---------------------------------------------------------------------------\u001b[0m",
            "\u001b[0;31mJSONDecodeError\u001b[0m                           Traceback (most recent call last)",
            "\u001b[0;32m<ipython-input-16-5234c1bedf2b>\u001b[0m in \u001b[0;36m<cell line: 1>\u001b[0;34m()\u001b[0m\n\u001b[1;32m      1\u001b[0m \u001b[0;32mwith\u001b[0m \u001b[0mopen\u001b[0m\u001b[0;34m(\u001b[0m\u001b[0;34m'/content/intents1.txt'\u001b[0m\u001b[0;34m)\u001b[0m \u001b[0;32mas\u001b[0m \u001b[0mjson_data\u001b[0m\u001b[0;34m:\u001b[0m\u001b[0;34m\u001b[0m\u001b[0;34m\u001b[0m\u001b[0m\n\u001b[0;32m----> 2\u001b[0;31m   \u001b[0mdata\u001b[0m \u001b[0;34m=\u001b[0m\u001b[0mjson\u001b[0m\u001b[0;34m.\u001b[0m\u001b[0mload\u001b[0m\u001b[0;34m(\u001b[0m\u001b[0mjson_data\u001b[0m\u001b[0;34m)\u001b[0m\u001b[0;34m\u001b[0m\u001b[0;34m\u001b[0m\u001b[0m\n\u001b[0m",
            "\u001b[0;32m/usr/lib/python3.9/json/__init__.py\u001b[0m in \u001b[0;36mload\u001b[0;34m(fp, cls, object_hook, parse_float, parse_int, parse_constant, object_pairs_hook, **kw)\u001b[0m\n\u001b[1;32m    291\u001b[0m     \u001b[0mkwarg\u001b[0m\u001b[0;34m;\u001b[0m \u001b[0motherwise\u001b[0m\u001b[0;31m \u001b[0m\u001b[0;31m`\u001b[0m\u001b[0;31m`\u001b[0m\u001b[0mJSONDecoder\u001b[0m\u001b[0;31m`\u001b[0m\u001b[0;31m`\u001b[0m \u001b[0;32mis\u001b[0m \u001b[0mused\u001b[0m\u001b[0;34m.\u001b[0m\u001b[0;34m\u001b[0m\u001b[0;34m\u001b[0m\u001b[0m\n\u001b[1;32m    292\u001b[0m     \"\"\"\n\u001b[0;32m--> 293\u001b[0;31m     return loads(fp.read(),\n\u001b[0m\u001b[1;32m    294\u001b[0m         \u001b[0mcls\u001b[0m\u001b[0;34m=\u001b[0m\u001b[0mcls\u001b[0m\u001b[0;34m,\u001b[0m \u001b[0mobject_hook\u001b[0m\u001b[0;34m=\u001b[0m\u001b[0mobject_hook\u001b[0m\u001b[0;34m,\u001b[0m\u001b[0;34m\u001b[0m\u001b[0;34m\u001b[0m\u001b[0m\n\u001b[1;32m    295\u001b[0m         \u001b[0mparse_float\u001b[0m\u001b[0;34m=\u001b[0m\u001b[0mparse_float\u001b[0m\u001b[0;34m,\u001b[0m \u001b[0mparse_int\u001b[0m\u001b[0;34m=\u001b[0m\u001b[0mparse_int\u001b[0m\u001b[0;34m,\u001b[0m\u001b[0;34m\u001b[0m\u001b[0;34m\u001b[0m\u001b[0m\n",
            "\u001b[0;32m/usr/lib/python3.9/json/__init__.py\u001b[0m in \u001b[0;36mloads\u001b[0;34m(s, cls, object_hook, parse_float, parse_int, parse_constant, object_pairs_hook, **kw)\u001b[0m\n\u001b[1;32m    344\u001b[0m             \u001b[0mparse_int\u001b[0m \u001b[0;32mis\u001b[0m \u001b[0;32mNone\u001b[0m \u001b[0;32mand\u001b[0m \u001b[0mparse_float\u001b[0m \u001b[0;32mis\u001b[0m \u001b[0;32mNone\u001b[0m \u001b[0;32mand\u001b[0m\u001b[0;34m\u001b[0m\u001b[0;34m\u001b[0m\u001b[0m\n\u001b[1;32m    345\u001b[0m             parse_constant is None and object_pairs_hook is None and not kw):\n\u001b[0;32m--> 346\u001b[0;31m         \u001b[0;32mreturn\u001b[0m \u001b[0m_default_decoder\u001b[0m\u001b[0;34m.\u001b[0m\u001b[0mdecode\u001b[0m\u001b[0;34m(\u001b[0m\u001b[0ms\u001b[0m\u001b[0;34m)\u001b[0m\u001b[0;34m\u001b[0m\u001b[0;34m\u001b[0m\u001b[0m\n\u001b[0m\u001b[1;32m    347\u001b[0m     \u001b[0;32mif\u001b[0m \u001b[0mcls\u001b[0m \u001b[0;32mis\u001b[0m \u001b[0;32mNone\u001b[0m\u001b[0;34m:\u001b[0m\u001b[0;34m\u001b[0m\u001b[0;34m\u001b[0m\u001b[0m\n\u001b[1;32m    348\u001b[0m         \u001b[0mcls\u001b[0m \u001b[0;34m=\u001b[0m \u001b[0mJSONDecoder\u001b[0m\u001b[0;34m\u001b[0m\u001b[0;34m\u001b[0m\u001b[0m\n",
            "\u001b[0;32m/usr/lib/python3.9/json/decoder.py\u001b[0m in \u001b[0;36mdecode\u001b[0;34m(self, s, _w)\u001b[0m\n\u001b[1;32m    335\u001b[0m \u001b[0;34m\u001b[0m\u001b[0m\n\u001b[1;32m    336\u001b[0m         \"\"\"\n\u001b[0;32m--> 337\u001b[0;31m         \u001b[0mobj\u001b[0m\u001b[0;34m,\u001b[0m \u001b[0mend\u001b[0m \u001b[0;34m=\u001b[0m \u001b[0mself\u001b[0m\u001b[0;34m.\u001b[0m\u001b[0mraw_decode\u001b[0m\u001b[0;34m(\u001b[0m\u001b[0ms\u001b[0m\u001b[0;34m,\u001b[0m \u001b[0midx\u001b[0m\u001b[0;34m=\u001b[0m\u001b[0m_w\u001b[0m\u001b[0;34m(\u001b[0m\u001b[0ms\u001b[0m\u001b[0;34m,\u001b[0m \u001b[0;36m0\u001b[0m\u001b[0;34m)\u001b[0m\u001b[0;34m.\u001b[0m\u001b[0mend\u001b[0m\u001b[0;34m(\u001b[0m\u001b[0;34m)\u001b[0m\u001b[0;34m)\u001b[0m\u001b[0;34m\u001b[0m\u001b[0;34m\u001b[0m\u001b[0m\n\u001b[0m\u001b[1;32m    338\u001b[0m         \u001b[0mend\u001b[0m \u001b[0;34m=\u001b[0m \u001b[0m_w\u001b[0m\u001b[0;34m(\u001b[0m\u001b[0ms\u001b[0m\u001b[0;34m,\u001b[0m \u001b[0mend\u001b[0m\u001b[0;34m)\u001b[0m\u001b[0;34m.\u001b[0m\u001b[0mend\u001b[0m\u001b[0;34m(\u001b[0m\u001b[0;34m)\u001b[0m\u001b[0;34m\u001b[0m\u001b[0;34m\u001b[0m\u001b[0m\n\u001b[1;32m    339\u001b[0m         \u001b[0;32mif\u001b[0m \u001b[0mend\u001b[0m \u001b[0;34m!=\u001b[0m \u001b[0mlen\u001b[0m\u001b[0;34m(\u001b[0m\u001b[0ms\u001b[0m\u001b[0;34m)\u001b[0m\u001b[0;34m:\u001b[0m\u001b[0;34m\u001b[0m\u001b[0;34m\u001b[0m\u001b[0m\n",
            "\u001b[0;32m/usr/lib/python3.9/json/decoder.py\u001b[0m in \u001b[0;36mraw_decode\u001b[0;34m(self, s, idx)\u001b[0m\n\u001b[1;32m    353\u001b[0m             \u001b[0mobj\u001b[0m\u001b[0;34m,\u001b[0m \u001b[0mend\u001b[0m \u001b[0;34m=\u001b[0m \u001b[0mself\u001b[0m\u001b[0;34m.\u001b[0m\u001b[0mscan_once\u001b[0m\u001b[0;34m(\u001b[0m\u001b[0ms\u001b[0m\u001b[0;34m,\u001b[0m \u001b[0midx\u001b[0m\u001b[0;34m)\u001b[0m\u001b[0;34m\u001b[0m\u001b[0;34m\u001b[0m\u001b[0m\n\u001b[1;32m    354\u001b[0m         \u001b[0;32mexcept\u001b[0m \u001b[0mStopIteration\u001b[0m \u001b[0;32mas\u001b[0m \u001b[0merr\u001b[0m\u001b[0;34m:\u001b[0m\u001b[0;34m\u001b[0m\u001b[0;34m\u001b[0m\u001b[0m\n\u001b[0;32m--> 355\u001b[0;31m             \u001b[0;32mraise\u001b[0m \u001b[0mJSONDecodeError\u001b[0m\u001b[0;34m(\u001b[0m\u001b[0;34m\"Expecting value\"\u001b[0m\u001b[0;34m,\u001b[0m \u001b[0ms\u001b[0m\u001b[0;34m,\u001b[0m \u001b[0merr\u001b[0m\u001b[0;34m.\u001b[0m\u001b[0mvalue\u001b[0m\u001b[0;34m)\u001b[0m \u001b[0;32mfrom\u001b[0m \u001b[0;32mNone\u001b[0m\u001b[0;34m\u001b[0m\u001b[0;34m\u001b[0m\u001b[0m\n\u001b[0m\u001b[1;32m    356\u001b[0m         \u001b[0;32mreturn\u001b[0m \u001b[0mobj\u001b[0m\u001b[0;34m,\u001b[0m \u001b[0mend\u001b[0m\u001b[0;34m\u001b[0m\u001b[0;34m\u001b[0m\u001b[0m\n",
            "\u001b[0;31mJSONDecodeError\u001b[0m: Expecting value: line 102 column 9 (char 4154)"
          ]
        }
      ],
      "source": [
        "with open('/content/intents.json') as json_data:\n",
        "  data =json.load(json_data)"
      ]
    },
    {
      "cell_type": "code",
      "execution_count": null,
      "metadata": {
        "colab": {
          "base_uri": "https://localhost:8080/"
        },
        "id": "faRPv_KnLFaT",
        "outputId": "dd1c34f3-ad66-4b4e-e923-9e8164f75bff"
      },
      "outputs": [
        {
          "data": {
            "text/plain": [
              "{'intents': [{'tag': 'greeting',\n",
              "   'patterns': ['Hi', 'How are you', 'Is anyone there?', 'Hello', 'Good day'],\n",
              "   'responses': ['Hello, thanks for visiting',\n",
              "    'Good to see you again',\n",
              "    'Hi there, how can I help?'],\n",
              "   'context_set': ''},\n",
              "  {'tag': 'goodbye',\n",
              "   'patterns': ['Bye', 'See you later', 'Goodbye'],\n",
              "   'responses': ['See you later, thanks for visiting',\n",
              "    'Have a nice day',\n",
              "    'Bye! Come back again soon.']},\n",
              "  {'tag': 'thanks',\n",
              "   'patterns': ['Thanks', 'Thank you', \"That's helpful\"],\n",
              "   'responses': ['Happy to help!', 'Any time!', 'My pleasure']},\n",
              "  {'tag': 'chatbot',\n",
              "   'patterns': ['Who built this chatbot?',\n",
              "    'Tell me about Chatbot',\n",
              "    'What is this chatbot name?'],\n",
              "   'responses': ['Hi, I am Chatbot designed by Harsh.',\n",
              "    'Thanks for asking. I am designed by Harsh Roy.',\n",
              "    'I am a chatbot.']},\n",
              "  {'tag': 'location',\n",
              "   'patterns': ['What is your location?',\n",
              "    'Where are you located?',\n",
              "    'What is your address?'],\n",
              "   'responses': [\"We are from World's largest Democracy India.\",\n",
              "    'You can visit India to meet us',\n",
              "    'Thans for your Interest. I live in India.']},\n",
              "  {'tag': 'connect',\n",
              "   'patterns': ['Give me your social media accounts link',\n",
              "    'Where can we connect',\n",
              "    'How can i reach out to you?',\n",
              "    'Is there any way we can connect'],\n",
              "   'responses': ['You can connect me on Linkedin or Github \\n Linkedin - https://www.linkedin.com/in/harsh-roy-1100b01bb/ \\n Github - https://github.com/harshroy7632']},\n",
              "  {'tag': 'anime',\n",
              "   'patterns': ['Which is your favourite anime?',\n",
              "    'Suggest me some anime',\n",
              "    'Recommend anime'],\n",
              "   'responses': ['One Piece',\n",
              "    'Bleach',\n",
              "    'Hajime no Ippo',\n",
              "    'Hunter x Hunter',\n",
              "    'Bungo Stray Dogs',\n",
              "    'Blue Lock',\n",
              "    'Monster',\n",
              "    'Overflow']},\n",
              "  {'tag': 'about',\n",
              "   'patterns': ['Who are you?', 'Tell me about Yourself', 'What is this?'],\n",
              "   'responses': ['Hi, I am Harsh. Nice to meet you. I made this chatbot for fun and practice.',\n",
              "    'Thanks for asking. I am Harsh Roy, coder and ML enthusiast by passion.']}]}"
            ]
          },
          "execution_count": 3,
          "metadata": {},
          "output_type": "execute_result"
        }
      ],
      "source": [
        "data"
      ]
    },
    {
      "cell_type": "code",
      "execution_count": null,
      "metadata": {
        "id": "2rfqWq7WLFf6"
      },
      "outputs": [],
      "source": [
        "words=[]\n",
        "classes=[]\n",
        "documents=[]\n",
        "ignore=['?']\n",
        "for intent in data['intents']:\n",
        "    for pattern in intent['patterns']:\n",
        "      w=nltk.word_tokenize(pattern)\n",
        "      words.extend(w)\n",
        "      documents.append(( w, intent['tag'] ))\n",
        "      if intent['tag'] not in classes:\n",
        "        classes.append(intent['tag'])"
      ]
    },
    {
      "cell_type": "code",
      "execution_count": null,
      "metadata": {
        "colab": {
          "base_uri": "https://localhost:8080/"
        },
        "id": "t5x3V0-hLFij",
        "outputId": "3dc2ce86-c240-499a-a1a6-12a51ec9b422"
      },
      "outputs": [
        {
          "name": "stdout",
          "output_type": "stream",
          "text": [
            "27 documents\n",
            "8 classes ['about', 'anime', 'chatbot', 'connect', 'goodbye', 'greeting', 'location', 'thanks']\n",
            "52 unique stemmed words [\"'s\", 'about', 'account', 'address', 'ani', 'anim', 'anyon', 'are', 'built', 'bye', 'can', 'chatbot', 'connect', 'day', 'favourit', 'give', 'good', 'goodby', 'hello', 'help', 'hi', 'how', 'i', 'is', 'later', 'link', 'locat', 'me', 'media', 'name', 'out', 'reach', 'recommend', 'see', 'social', 'some', 'suggest', 'tell', 'thank', 'that', 'there', 'thi', 'to', 'way', 'we', 'what', 'where', 'which', 'who', 'you', 'your', 'yourself']\n"
          ]
        }
      ],
      "source": [
        "stemmer=PorterStemmer()\n",
        "words = [stemmer.stem(w.lower()) for w in words if w not in ignore]\n",
        "words = sorted(list(set(words)))\n",
        "\n",
        "classes = sorted(list(set(classes)))\n",
        "\n",
        "print(len(documents),\"documents\")\n",
        "print(len(classes),\"classes\",classes)\n",
        "print(len(words),\"unique stemmed words\",words)"
      ]
    },
    {
      "cell_type": "code",
      "execution_count": null,
      "metadata": {
        "colab": {
          "base_uri": "https://localhost:8080/"
        },
        "id": "WUz8ipjpLFlT",
        "outputId": "0e752c32-e1e5-4c75-eb7d-54ea5379732e"
      },
      "outputs": [
        {
          "name": "stderr",
          "output_type": "stream",
          "text": [
            "<ipython-input-6-de0daf5f59b8>:20: VisibleDeprecationWarning: Creating an ndarray from ragged nested sequences (which is a list-or-tuple of lists-or-tuples-or ndarrays with different lengths or shapes) is deprecated. If you meant to do this, you must specify 'dtype=object' when creating the ndarray.\n",
            "  training = np.array(training)\n"
          ]
        }
      ],
      "source": [
        "training=[]\n",
        "output=[]\n",
        "output_empty=[0]*len(classes)\n",
        "\n",
        "for doc in documents:\n",
        "  bag=[]\n",
        "  pattern_words=doc[0]\n",
        "  pattern_words=[stemmer.stem(w.lower()) for w in pattern_words ]\n",
        "\n",
        "  for w in words:\n",
        "    bag.append(1) if w in pattern_words else bag.append(0)\n",
        "\n",
        "\n",
        "  output_row=list(output_empty)\n",
        "  output_row[classes.index(doc[1])] = 1\n",
        "\n",
        "  training.append([bag,output_row])\n",
        "\n",
        "random.shuffle(training)\n",
        "training = np.array(training)\n",
        "\n",
        "train_x = list(training[:,0])\n",
        "train_y = list(training[:,1])"
      ]
    },
    {
      "cell_type": "code",
      "execution_count": null,
      "metadata": {
        "id": "6tQ7621BLFnz"
      },
      "outputs": [],
      "source": [
        "model = tf.keras.Sequential()\n",
        "model.add(tf.keras.layers.Dense(10,input_shape=(len(train_x[0]),)))\n",
        "model.add(tf.keras.layers.Dense(10))\n",
        "model.add(tf.keras.layers.Dense(len(train_y[0]),activation = 'softmax'))\n",
        "model.compile(tf.keras.optimizers.Adam(), loss='categorical_crossentropy', metrics = ['accuracy'])"
      ]
    },
    {
      "cell_type": "code",
      "execution_count": null,
      "metadata": {
        "colab": {
          "base_uri": "https://localhost:8080/"
        },
        "id": "SvqdRB9uLFqR",
        "outputId": "a74b4345-8d39-4a27-e676-a185154a0688"
      },
      "outputs": [
        {
          "name": "stdout",
          "output_type": "stream",
          "text": [
            "Epoch 1/100\n",
            "4/4 [==============================] - 1s 8ms/step - loss: 2.0081 - accuracy: 0.1481\n",
            "Epoch 2/100\n",
            "4/4 [==============================] - 0s 4ms/step - loss: 1.9833 - accuracy: 0.2222\n",
            "Epoch 3/100\n",
            "4/4 [==============================] - 0s 4ms/step - loss: 1.9632 - accuracy: 0.2222\n",
            "Epoch 4/100\n",
            "4/4 [==============================] - 0s 5ms/step - loss: 1.9436 - accuracy: 0.2222\n",
            "Epoch 5/100\n",
            "4/4 [==============================] - 0s 4ms/step - loss: 1.9250 - accuracy: 0.2593\n",
            "Epoch 6/100\n",
            "4/4 [==============================] - 0s 4ms/step - loss: 1.9054 - accuracy: 0.2593\n",
            "Epoch 7/100\n",
            "4/4 [==============================] - 0s 3ms/step - loss: 1.8873 - accuracy: 0.2963\n",
            "Epoch 8/100\n",
            "4/4 [==============================] - 0s 4ms/step - loss: 1.8686 - accuracy: 0.2963\n",
            "Epoch 9/100\n",
            "4/4 [==============================] - 0s 4ms/step - loss: 1.8508 - accuracy: 0.2963\n",
            "Epoch 10/100\n",
            "4/4 [==============================] - 0s 4ms/step - loss: 1.8324 - accuracy: 0.2963\n",
            "Epoch 11/100\n",
            "4/4 [==============================] - 0s 5ms/step - loss: 1.8137 - accuracy: 0.2963\n",
            "Epoch 12/100\n",
            "4/4 [==============================] - 0s 5ms/step - loss: 1.7959 - accuracy: 0.2963\n",
            "Epoch 13/100\n",
            "4/4 [==============================] - 0s 5ms/step - loss: 1.7777 - accuracy: 0.3704\n",
            "Epoch 14/100\n",
            "4/4 [==============================] - 0s 5ms/step - loss: 1.7595 - accuracy: 0.4444\n",
            "Epoch 15/100\n",
            "4/4 [==============================] - 0s 5ms/step - loss: 1.7414 - accuracy: 0.4444\n",
            "Epoch 16/100\n",
            "4/4 [==============================] - 0s 4ms/step - loss: 1.7238 - accuracy: 0.4815\n",
            "Epoch 17/100\n",
            "4/4 [==============================] - 0s 4ms/step - loss: 1.7046 - accuracy: 0.4815\n",
            "Epoch 18/100\n",
            "4/4 [==============================] - 0s 4ms/step - loss: 1.6866 - accuracy: 0.5185\n",
            "Epoch 19/100\n",
            "4/4 [==============================] - 0s 4ms/step - loss: 1.6684 - accuracy: 0.5185\n",
            "Epoch 20/100\n",
            "4/4 [==============================] - 0s 4ms/step - loss: 1.6499 - accuracy: 0.5185\n",
            "Epoch 21/100\n",
            "4/4 [==============================] - 0s 5ms/step - loss: 1.6310 - accuracy: 0.5556\n",
            "Epoch 22/100\n",
            "4/4 [==============================] - 0s 5ms/step - loss: 1.6124 - accuracy: 0.5556\n",
            "Epoch 23/100\n",
            "4/4 [==============================] - 0s 5ms/step - loss: 1.5936 - accuracy: 0.5556\n",
            "Epoch 24/100\n",
            "4/4 [==============================] - 0s 5ms/step - loss: 1.5764 - accuracy: 0.5926\n",
            "Epoch 25/100\n",
            "4/4 [==============================] - 0s 5ms/step - loss: 1.5578 - accuracy: 0.5926\n",
            "Epoch 26/100\n",
            "4/4 [==============================] - 0s 5ms/step - loss: 1.5394 - accuracy: 0.6296\n",
            "Epoch 27/100\n",
            "4/4 [==============================] - 0s 6ms/step - loss: 1.5214 - accuracy: 0.6667\n",
            "Epoch 28/100\n",
            "4/4 [==============================] - 0s 5ms/step - loss: 1.5019 - accuracy: 0.6667\n",
            "Epoch 29/100\n",
            "4/4 [==============================] - 0s 4ms/step - loss: 1.4841 - accuracy: 0.6667\n",
            "Epoch 30/100\n",
            "4/4 [==============================] - 0s 4ms/step - loss: 1.4647 - accuracy: 0.6667\n",
            "Epoch 31/100\n",
            "4/4 [==============================] - 0s 4ms/step - loss: 1.4461 - accuracy: 0.6667\n",
            "Epoch 32/100\n",
            "4/4 [==============================] - 0s 4ms/step - loss: 1.4274 - accuracy: 0.6667\n",
            "Epoch 33/100\n",
            "4/4 [==============================] - 0s 4ms/step - loss: 1.4087 - accuracy: 0.7037\n",
            "Epoch 34/100\n",
            "4/4 [==============================] - 0s 4ms/step - loss: 1.3900 - accuracy: 0.7037\n",
            "Epoch 35/100\n",
            "4/4 [==============================] - 0s 4ms/step - loss: 1.3716 - accuracy: 0.7407\n",
            "Epoch 36/100\n",
            "4/4 [==============================] - 0s 4ms/step - loss: 1.3528 - accuracy: 0.7407\n",
            "Epoch 37/100\n",
            "4/4 [==============================] - 0s 4ms/step - loss: 1.3342 - accuracy: 0.7407\n",
            "Epoch 38/100\n",
            "4/4 [==============================] - 0s 4ms/step - loss: 1.3157 - accuracy: 0.7407\n",
            "Epoch 39/100\n",
            "4/4 [==============================] - 0s 5ms/step - loss: 1.2966 - accuracy: 0.7407\n",
            "Epoch 40/100\n",
            "4/4 [==============================] - 0s 4ms/step - loss: 1.2786 - accuracy: 0.7778\n",
            "Epoch 41/100\n",
            "4/4 [==============================] - 0s 5ms/step - loss: 1.2593 - accuracy: 0.7778\n",
            "Epoch 42/100\n",
            "4/4 [==============================] - 0s 4ms/step - loss: 1.2410 - accuracy: 0.7778\n",
            "Epoch 43/100\n",
            "4/4 [==============================] - 0s 5ms/step - loss: 1.2226 - accuracy: 0.7778\n",
            "Epoch 44/100\n",
            "4/4 [==============================] - 0s 5ms/step - loss: 1.2040 - accuracy: 0.7778\n",
            "Epoch 45/100\n",
            "4/4 [==============================] - 0s 4ms/step - loss: 1.1845 - accuracy: 0.7778\n",
            "Epoch 46/100\n",
            "4/4 [==============================] - 0s 5ms/step - loss: 1.1659 - accuracy: 0.7778\n",
            "Epoch 47/100\n",
            "4/4 [==============================] - 0s 5ms/step - loss: 1.1472 - accuracy: 0.7778\n",
            "Epoch 48/100\n",
            "4/4 [==============================] - 0s 4ms/step - loss: 1.1286 - accuracy: 0.7778\n",
            "Epoch 49/100\n",
            "4/4 [==============================] - 0s 5ms/step - loss: 1.1089 - accuracy: 0.8148\n",
            "Epoch 50/100\n",
            "4/4 [==============================] - 0s 5ms/step - loss: 1.0901 - accuracy: 0.8519\n",
            "Epoch 51/100\n",
            "4/4 [==============================] - 0s 4ms/step - loss: 1.0732 - accuracy: 0.8519\n",
            "Epoch 52/100\n",
            "4/4 [==============================] - 0s 5ms/step - loss: 1.0544 - accuracy: 0.8519\n",
            "Epoch 53/100\n",
            "4/4 [==============================] - 0s 5ms/step - loss: 1.0366 - accuracy: 0.8889\n",
            "Epoch 54/100\n",
            "4/4 [==============================] - 0s 5ms/step - loss: 1.0184 - accuracy: 0.8889\n",
            "Epoch 55/100\n",
            "4/4 [==============================] - 0s 5ms/step - loss: 1.0006 - accuracy: 0.8889\n",
            "Epoch 56/100\n",
            "4/4 [==============================] - 0s 6ms/step - loss: 0.9835 - accuracy: 0.8889\n",
            "Epoch 57/100\n",
            "4/4 [==============================] - 0s 5ms/step - loss: 0.9659 - accuracy: 0.8889\n",
            "Epoch 58/100\n",
            "4/4 [==============================] - 0s 4ms/step - loss: 0.9475 - accuracy: 0.8889\n",
            "Epoch 59/100\n",
            "4/4 [==============================] - 0s 5ms/step - loss: 0.9306 - accuracy: 0.8889\n",
            "Epoch 60/100\n",
            "4/4 [==============================] - 0s 4ms/step - loss: 0.9135 - accuracy: 0.8889\n",
            "Epoch 61/100\n",
            "4/4 [==============================] - 0s 6ms/step - loss: 0.8956 - accuracy: 0.8889\n",
            "Epoch 62/100\n",
            "4/4 [==============================] - 0s 5ms/step - loss: 0.8789 - accuracy: 0.8889\n",
            "Epoch 63/100\n",
            "4/4 [==============================] - 0s 5ms/step - loss: 0.8608 - accuracy: 0.8889\n",
            "Epoch 64/100\n",
            "4/4 [==============================] - 0s 4ms/step - loss: 0.8451 - accuracy: 0.8889\n",
            "Epoch 65/100\n",
            "4/4 [==============================] - 0s 5ms/step - loss: 0.8284 - accuracy: 0.8889\n",
            "Epoch 66/100\n",
            "4/4 [==============================] - 0s 5ms/step - loss: 0.8139 - accuracy: 0.8889\n",
            "Epoch 67/100\n",
            "4/4 [==============================] - 0s 5ms/step - loss: 0.7959 - accuracy: 0.9259\n",
            "Epoch 68/100\n",
            "4/4 [==============================] - 0s 4ms/step - loss: 0.7813 - accuracy: 0.9259\n",
            "Epoch 69/100\n",
            "4/4 [==============================] - 0s 5ms/step - loss: 0.7656 - accuracy: 0.9259\n",
            "Epoch 70/100\n",
            "4/4 [==============================] - 0s 4ms/step - loss: 0.7499 - accuracy: 0.9259\n",
            "Epoch 71/100\n",
            "4/4 [==============================] - 0s 6ms/step - loss: 0.7351 - accuracy: 0.9259\n",
            "Epoch 72/100\n",
            "4/4 [==============================] - 0s 5ms/step - loss: 0.7185 - accuracy: 0.9259\n",
            "Epoch 73/100\n",
            "4/4 [==============================] - 0s 5ms/step - loss: 0.7042 - accuracy: 0.9259\n",
            "Epoch 74/100\n",
            "4/4 [==============================] - 0s 4ms/step - loss: 0.6893 - accuracy: 0.9259\n",
            "Epoch 75/100\n",
            "4/4 [==============================] - 0s 4ms/step - loss: 0.6752 - accuracy: 0.9259\n",
            "Epoch 76/100\n",
            "4/4 [==============================] - 0s 4ms/step - loss: 0.6604 - accuracy: 0.9259\n",
            "Epoch 77/100\n",
            "4/4 [==============================] - 0s 4ms/step - loss: 0.6467 - accuracy: 0.9259\n",
            "Epoch 78/100\n",
            "4/4 [==============================] - 0s 4ms/step - loss: 0.6337 - accuracy: 0.9259\n",
            "Epoch 79/100\n",
            "4/4 [==============================] - 0s 4ms/step - loss: 0.6196 - accuracy: 0.9259\n",
            "Epoch 80/100\n",
            "4/4 [==============================] - 0s 4ms/step - loss: 0.6078 - accuracy: 0.9259\n",
            "Epoch 81/100\n",
            "4/4 [==============================] - 0s 4ms/step - loss: 0.5933 - accuracy: 0.9630\n",
            "Epoch 82/100\n",
            "4/4 [==============================] - 0s 4ms/step - loss: 0.5805 - accuracy: 0.9630\n",
            "Epoch 83/100\n",
            "4/4 [==============================] - 0s 4ms/step - loss: 0.5683 - accuracy: 0.9630\n",
            "Epoch 84/100\n",
            "4/4 [==============================] - 0s 4ms/step - loss: 0.5556 - accuracy: 0.9630\n",
            "Epoch 85/100\n",
            "4/4 [==============================] - 0s 5ms/step - loss: 0.5434 - accuracy: 0.9630\n",
            "Epoch 86/100\n",
            "4/4 [==============================] - 0s 5ms/step - loss: 0.5314 - accuracy: 0.9630\n",
            "Epoch 87/100\n",
            "4/4 [==============================] - 0s 5ms/step - loss: 0.5189 - accuracy: 0.9630\n",
            "Epoch 88/100\n",
            "4/4 [==============================] - 0s 6ms/step - loss: 0.5073 - accuracy: 0.9630\n",
            "Epoch 89/100\n",
            "4/4 [==============================] - 0s 4ms/step - loss: 0.4961 - accuracy: 0.9630\n",
            "Epoch 90/100\n",
            "4/4 [==============================] - 0s 5ms/step - loss: 0.4850 - accuracy: 0.9630\n",
            "Epoch 91/100\n",
            "4/4 [==============================] - 0s 4ms/step - loss: 0.4737 - accuracy: 0.9630\n",
            "Epoch 92/100\n",
            "4/4 [==============================] - 0s 4ms/step - loss: 0.4636 - accuracy: 0.9630\n",
            "Epoch 93/100\n",
            "4/4 [==============================] - 0s 4ms/step - loss: 0.4530 - accuracy: 0.9630\n",
            "Epoch 94/100\n",
            "4/4 [==============================] - 0s 4ms/step - loss: 0.4432 - accuracy: 0.9630\n",
            "Epoch 95/100\n",
            "4/4 [==============================] - 0s 6ms/step - loss: 0.4328 - accuracy: 0.9630\n",
            "Epoch 96/100\n",
            "4/4 [==============================] - 0s 5ms/step - loss: 0.4233 - accuracy: 1.0000\n",
            "Epoch 97/100\n",
            "4/4 [==============================] - 0s 6ms/step - loss: 0.4136 - accuracy: 1.0000\n",
            "Epoch 98/100\n",
            "4/4 [==============================] - 0s 4ms/step - loss: 0.4045 - accuracy: 1.0000\n",
            "Epoch 99/100\n",
            "4/4 [==============================] - 0s 5ms/step - loss: 0.3951 - accuracy: 1.0000\n",
            "Epoch 100/100\n",
            "4/4 [==============================] - 0s 6ms/step - loss: 0.3872 - accuracy: 1.0000\n"
          ]
        },
        {
          "name": "stderr",
          "output_type": "stream",
          "text": [
            "WARNING:absl:Found untraced functions such as _update_step_xla while saving (showing 1 of 1). These functions will not be directly callable after loading.\n"
          ]
        }
      ],
      "source": [
        "model.fit(np.array(train_x),np.array(train_y),epochs=100, batch_size=8, verbose=1)\n",
        "model.save('model.pkl')"
      ]
    },
    {
      "cell_type": "code",
      "execution_count": null,
      "metadata": {
        "id": "2Ali4vAzLFsx"
      },
      "outputs": [],
      "source": [
        "import pickle\n",
        "pickle.dump({'words': words , 'classes':classes}, open(\"training_data\",\"wb\" ))"
      ]
    },
    {
      "cell_type": "code",
      "execution_count": null,
      "metadata": {
        "id": "VExoXwawLFvc"
      },
      "outputs": [],
      "source": [
        "from keras.models import load_model\n",
        "model=load_model('model.pkl')"
      ]
    },
    {
      "cell_type": "code",
      "execution_count": null,
      "metadata": {
        "id": "KmHAqBTzhMjW"
      },
      "outputs": [],
      "source": [
        "def clean_up_sentence (sentence):\n",
        "    sentence_words = nltk.word_tokenize (sentence)\n",
        "    sentence_words = [stemmer.stem (word.lower()) for word in sentence_words]\n",
        "    return sentence_words\n",
        "\n",
        "def bow(sentence, words):\n",
        "    sentence_words = clean_up_sentence(sentence)\n",
        "    bag = [0]*len(words)\n",
        "    for s in sentence_words:\n",
        "       for i,w in enumerate(words):\n",
        "           if w== s:\n",
        "              bag[i] = 1\n",
        "    bag-np.array(bag)\n",
        "    return(bag)"
      ]
    },
    {
      "cell_type": "code",
      "execution_count": null,
      "metadata": {
        "id": "b_y--dnvhMde"
      },
      "outputs": [],
      "source": [
        "ERROR_THRESHOLD = 0.30\n",
        "def classify(sentence):\n",
        "   bag = bow(sentence, words)\n",
        "   results = model.predict(np.array([bag]))\n",
        "   results = [[i,r] for i,r in enumerate(results[0]) if r>ERROR_THRESHOLD]\n",
        "   results.sort(key=lambda x: x[1], reverse=True)\n",
        "   return_list = []\n",
        "   for r in results:\n",
        "       return_list.append((classes[r[0]], [1]))\n",
        "   return return_list\n",
        "\n",
        "def response (sentence):\n",
        "    results = classify(sentence)\n",
        "    if results:\n",
        "       while results:\n",
        "            for i in data['intents']:\n",
        "                  if i['tag'] ==results[0][0]:\n",
        "                    return print(random.choice(i['responses']))\n",
        "    results.pop(0)\n"
      ]
    },
    {
      "cell_type": "code",
      "execution_count": null,
      "metadata": {
        "colab": {
          "base_uri": "https://localhost:8080/"
        },
        "id": "IjlMrfmHCvdp",
        "outputId": "336fc306-1821-4252-e345-e7d3febaf634"
      },
      "outputs": [
        {
          "name": "stdout",
          "output_type": "stream",
          "text": [
            "1/1 [==============================] - 0s 90ms/step\n",
            "Hi, I am Harsh. Nice to meet you. I made this chatbot for fun and practice.\n"
          ]
        }
      ],
      "source": [
        "response('Who are you?')"
      ]
    },
    {
      "cell_type": "code",
      "execution_count": null,
      "metadata": {
        "colab": {
          "base_uri": "https://localhost:8080/"
        },
        "id": "aSkOh8KJhMUX",
        "outputId": "e3adc17e-69cf-4cfa-d39e-4f190428628b"
      },
      "outputs": [
        {
          "name": "stdout",
          "output_type": "stream",
          "text": [
            "1/1 [==============================] - 0s 23ms/step\n",
            "You can connect me on Linkedin or Github \n",
            " Linkedin - https://www.linkedin.com/in/harsh-roy-1100b01bb/ \n",
            " Github - https://github.com/harshroy7632\n"
          ]
        }
      ],
      "source": [
        "response('Where can we connect')"
      ]
    },
    {
      "cell_type": "code",
      "execution_count": null,
      "metadata": {
        "colab": {
          "base_uri": "https://localhost:8080/"
        },
        "id": "GyjOEM55LFxy",
        "outputId": "371b56f7-c4b7-4c4f-bf78-8eeae82e522f"
      },
      "outputs": [
        {
          "name": "stdout",
          "output_type": "stream",
          "text": [
            "1/1 [==============================] - 0s 23ms/step\n",
            "Hunter x Hunter\n"
          ]
        }
      ],
      "source": [
        "response('Suggest me some anime')"
      ]
    }
  ],
  "metadata": {
    "colab": {
      "provenance": []
    },
    "kernelspec": {
      "display_name": "Python 3",
      "name": "python3"
    },
    "language_info": {
      "name": "python"
    }
  },
  "nbformat": 4,
  "nbformat_minor": 0
}